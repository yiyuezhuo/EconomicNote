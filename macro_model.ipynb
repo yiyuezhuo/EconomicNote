{
 "cells": [
  {
   "cell_type": "markdown",
   "metadata": {},
   "source": [
    "# 总需求总供给模型\n",
    "\n",
    "总需求总供给模型是初级宏观经济学的一个小高峰，它基本按这个顺序发展\n",
    "\n",
    "* 总收入等于总支出\n",
    "* 总收入总消费闭环,\n",
    "* 国民收入决定理论,投资作为外生变量\n",
    "* IS曲线，产品市场均衡，投资内生化，引入利率\n",
    "* LM曲线，货币市场均衡，引入货币供给\n",
    "* IS-LM模型，利率内生化，\n",
    "* 总需求曲线，实际货币供给内生化，引入价格指数\n",
    "* 劳动市场均衡，劳动投入量与实际价格内生化\n",
    "* 生产函数，通过短期控制几个外生变量为不变\n",
    "* 总供给曲线，得到劳动市场均衡与总收入关系\n",
    "* 总需求-总供给模型，内生化价格指数。\n",
    "\n",
    "以此，我们逐步的内生化了一堆变量。从而我们得到了一个这样的静态模型。即给定一组外生变量的值后，就能确定一堆内生变量的值。\n",
    "外生变量中一个发生变化，一般造成所有内生变量变化，即均衡状态的漂变。有趣的是，即使是这一静态模型的线性版本，都显得\n",
    "有限难以求解，更不要说动态模型了。\n",
    "\n",
    "形式化地，模型$model$是一个映射，将一个特定外生变量向量映射为一个内生变量向量\n",
    "\n",
    "$$\n",
    "model: g,\\bar{k},t,M \\to y,c,i,r,P,N,L_1,L_2,f,h,W\n",
    "$$\n",
    "\n",
    "其中\n",
    "\n",
    "外生变量为\n",
    "\n",
    "* $g$ 是政府投资\n",
    "* $\\bar{k}$ 是资本存量\n",
    "* $t$ 是定量税\n",
    "* $M$ 是名义货币供应\n",
    "\n",
    "内生变量为\n",
    "\n",
    "* $y$ 为总收入/总支出\n",
    "* $c$ 为总消费\n",
    "* $i$ 为总投资\n",
    "* $r$ 为利率\n",
    "* $P$ 为价格指数\n",
    "* $N$ 为劳动力投入\n",
    "* $L_1$ 为消费式货币需求\n",
    "* $L_2$ 为投机式货币需求\n",
    "* $f$或$h$ 为劳动市场均衡时的实际工资\n",
    "* $W$ 为名义工资\n",
    "\n",
    "方程的核心是几个基础方程，其中的函数形式是待定的，所以其中携带一些还没提到的参数。尽管是待定的，但应该满足几条基本性质。\n",
    "\n",
    "* $y=c(y-t)+i(r)+g$ 产品市场均衡\n",
    "* $\\frac{M}{P}=L_1(y)+L_2(r)$ 货币市场均衡\n",
    "* $f(N)=h(N)=\\frac{W}{P}$ 劳动市场均衡\n",
    "* $y=y(N,\\bar{K})$ 短期总量生产函数\n",
    "\n",
    "我们假设其中的函数形式如下，取最简单的线性函数\n",
    "\n",
    "$c(y-t)=C_a+C_b(y-t)$ 总需求被扣除税收后的净收入所决定，其中$C_b>0$表示正关系\n",
    "\n",
    "\n",
    "$i(r)=i_a-i_br $ 总投资与利率成负相关，即$i_b>0$\n",
    "\n",
    "$L_1(y)=L_{1a}+L_{1b}y $ 消费式货币需求与总收入正相关，即$L_1{1b}>0$\n",
    "\n",
    "\n",
    "$L_2(r)=L_{2a}-L_{2b}r $ 投机型货币需求与利率负相关，即$L_{2b}>0$\n",
    "\n",
    "$f(N)=f_a+f_bN $ 劳动需求与供应量成正比,即$f_b>0$\n",
    "\n",
    "$h(N)=h_a-h_bN $ 劳动需求与供应量成反比，即$h_b>0$\n",
    "\n",
    "$g(N,\\bar{k})=y_a+y_bN\\bar{k} $，总产量与劳动投入与资本存量成正比，即$y_b>0$\n",
    "\n",
    "Amazing,一个结构如此简单又繁琐的模型，让人不禁想起了神经网络。因为对每个内生变量求一次其决定是一场灾难，\n",
    "我们转而利用计算机代数处理这种并不需要洞见的问题。作为Jupyter notebook,当然用的是`sympy`\n"
   ]
  },
  {
   "cell_type": "code",
   "execution_count": 12,
   "metadata": {
    "collapsed": true
   },
   "outputs": [],
   "source": [
    "# -*- coding: utf-8 -*-\n",
    "\"\"\"\n",
    "Created on Tue Apr 12 13:55:20 2016\n",
    "\n",
    "@author: yiyuezhuo\n",
    "\"\"\"\n",
    "\n",
    "from sympy import S, Eq, solve,Symbol,simplify\n",
    "\n",
    "'''arg'''\n",
    "Ca,Cb,ia,ib,L1a,L1b,L2a,L2b=S('Ca,Cb,ia,ib,L1a,L1b,L2a,L2b'.split(','))\n",
    "fa,fb,ha,hb,ya,yb=S('fa,fb,ha,hb,ya,yb'.split(','))\n",
    "\n",
    "'''exog'''\n",
    "g,kbar,t,M=S('g,kbar,t,M'.split(','))\n",
    "\n",
    "'''endog'''\n",
    "y,c,i,r,P,N,L1,L2,f,h,W=S('y,c,i,r,P,N,L1,L2,f,h,W'.split(','))\n",
    "N=Symbol('N')\n",
    "\n",
    "\n",
    "'''equations function hypothesis'''\n",
    "c_y_t=Eq(c,Ca+Cb*(y-t))\n",
    "i_r=Eq(i,ia-ib*r)\n",
    "L1_y=Eq(L1,L1a+L1b*y)\n",
    "L2_r=Eq(L2,L2a-L2b*r)\n",
    "f_N=Eq(f,fa+fb*N)\n",
    "h_N=Eq(h,ha-hb*N)\n",
    "f_h=Eq(f,h)\n",
    "#y_N_kbar=Eq(y,ya+yb*N*kbar)\n",
    "\n",
    "#equs_hypo=[c_y_t,i_r,L1_y,L2_r,h_N,y_N_kbar]\n",
    "\n",
    "'''equations main'''\n",
    "y_=Eq(y,c+i+g)\n",
    "P_=Eq(P,M/(L1+L2))\n",
    "f_=Eq(f,W/P)\n",
    "y__=Eq(y,ya+yb*N*kbar)\n",
    "\n",
    "\n",
    "'''IS curve'''\n",
    "\n",
    "map_y_c_i=solve([c_y_t,y_,i_r],[y,c,i])\n",
    "\n",
    "'''LM curve'''\n",
    "\n",
    "map_y_L1_L2=solve([L1_y,L2_r,P_],[y,L1,L2])\n",
    "\n",
    "'''total demand curve'''\n",
    "\n",
    "map_y_r=solve([Eq(y,map_y_c_i[y]),Eq(y,map_y_L1_L2[y])],[y,r])\n",
    "\n",
    "map_y_c_i_={key:map_y_c_i[key].subs({r:map_y_r[r]}) for key in [y,c,i]}\n",
    "map_y_L1_L2_={key:map_y_L1_L2[key].subs({r:map_y_r[r]}) for key in [y,L1,L2]}\n",
    "\n",
    "map_y_c_i_L1_L2={}\n",
    "map_y_c_i_L1_L2.update(map_y_c_i_)\n",
    "map_y_c_i_L1_L2.update(map_y_L1_L2_)\n",
    "\n",
    "'''total supply curve'''\n",
    "\n",
    "map_y_W_N_f_h=solve([f_N,h_N,f_h,f_,y__],[y,W,N,f,h],dict=True)[0]\n",
    "\n",
    "'''do it!'''\n",
    "\n",
    "map_y_P=solve([Eq(y,map_y_W_N_f_h[y]),Eq(y,map_y_c_i_L1_L2[y])],[y,P],dict=True)[0]\n",
    "\n",
    "map_y_P_c_i_N_W_L1_L2_h_f={}\n",
    "map_y_P_c_i_N_W_L1_L2_h_f.update(map_y_P)\n",
    "#map_y_P_c_i_N_W_L1_L2_h_f[c]=map_y_c_i_L1_L2[c].subs(map_y_P)\n",
    "map_y_P_c_i_N_W_L1_L2_h_f.update({key:map_y_c_i_L1_L2[key].subs(map_y_P) for key in [c,i,L1,L2]})\n",
    "map_y_P_c_i_N_W_L1_L2_h_f.update({key:map_y_W_N_f_h[key].subs(map_y_P) for key in [W,N,f,h]})\n",
    "\n",
    "map_y_P_c_i_N_W_L1_L2_h_f={key:simplify(value) for key,value in map_y_P_c_i_N_W_L1_L2_h_f.items()}"
   ]
  },
  {
   "cell_type": "code",
   "execution_count": 13,
   "metadata": {
    "collapsed": false,
    "scrolled": true
   },
   "outputs": [
    {
     "data": {
      "text/plain": [
       "{y: (-fa*kbar*yb + fb*ya + ha*kbar*yb + hb*ya)/(fb + hb),\n",
       " f: (fa*hb + fb*ha)/(fb + hb),\n",
       " c: (Ca*fb + Ca*hb - Cb*fa*kbar*yb - Cb*fb*t + Cb*fb*ya + Cb*ha*kbar*yb - Cb*hb*t + Cb*hb*ya)/(fb + hb),\n",
       " h: (fa*hb + fb*ha)/(fb + hb),\n",
       " i: (-Ca*fb - Ca*hb + Cb*fa*kbar*yb + Cb*fb*t - Cb*fb*ya - Cb*ha*kbar*yb + Cb*hb*t - Cb*hb*ya - fa*kbar*yb - fb*g + fb*ya - g*hb + ha*kbar*yb + hb*ya)/(fb + hb),\n",
       " L1: (L1a*fb + L1a*hb - L1b*fa*kbar*yb + L1b*fb*ya + L1b*ha*kbar*yb + L1b*hb*ya)/(fb + hb),\n",
       " N: (-fa + ha)/(fb + hb),\n",
       " L2: (-Ca*L2b*fb - Ca*L2b*hb + Cb*L2b*fa*kbar*yb + Cb*L2b*fb*t - Cb*L2b*fb*ya - Cb*L2b*ha*kbar*yb + Cb*L2b*hb*t - Cb*L2b*hb*ya + L2a*fb*ib + L2a*hb*ib - L2b*fa*kbar*yb - L2b*fb*g - L2b*fb*ia + L2b*fb*ya - L2b*g*hb + L2b*ha*kbar*yb - L2b*hb*ia + L2b*hb*ya)/(ib*(fb + hb)),\n",
       " P: M*ib*(fb + hb)/(-Ca*L2b*fb - Ca*L2b*hb + Cb*L2b*fa*kbar*yb + Cb*L2b*fb*t - Cb*L2b*fb*ya - Cb*L2b*ha*kbar*yb + Cb*L2b*hb*t - Cb*L2b*hb*ya + L1a*fb*ib + L1a*hb*ib - L1b*fa*ib*kbar*yb + L1b*fb*ib*ya + L1b*ha*ib*kbar*yb + L1b*hb*ib*ya + L2a*fb*ib + L2a*hb*ib - L2b*fa*kbar*yb - L2b*fb*g - L2b*fb*ia + L2b*fb*ya - L2b*g*hb + L2b*ha*kbar*yb - L2b*hb*ia + L2b*hb*ya),\n",
       " W: M*ib*(fa*hb + fb*ha)/(-Ca*L2b*fb - Ca*L2b*hb + Cb*L2b*fa*kbar*yb + Cb*L2b*fb*t - Cb*L2b*fb*ya - Cb*L2b*ha*kbar*yb + Cb*L2b*hb*t - Cb*L2b*hb*ya + L1a*fb*ib + L1a*hb*ib - L1b*fa*ib*kbar*yb + L1b*fb*ib*ya + L1b*ha*ib*kbar*yb + L1b*hb*ib*ya + L2a*fb*ib + L2a*hb*ib - L2b*fa*kbar*yb - L2b*fb*g - L2b*fb*ia + L2b*fb*ya - L2b*g*hb + L2b*ha*kbar*yb - L2b*hb*ia + L2b*hb*ya)}"
      ]
     },
     "execution_count": 13,
     "metadata": {},
     "output_type": "execute_result"
    }
   ],
   "source": [
    "map_y_P_c_i_N_W_L1_L2_h_f"
   ]
  },
  {
   "cell_type": "markdown",
   "metadata": {},
   "source": [
    "非常琐碎，也许还是可以简化的，上面虽然已经用`sympy.simplify`简化了一道(相比某些的确还是简化了很多。。)。\n",
    "另外如此设定参数的值\n",
    "```\n",
    "Ca=1000 \n",
    "Cb=0.8 \n",
    "ia=10000 \n",
    "ib=5000 \n",
    "L1a=100 \n",
    "L1b=0.1 \n",
    "L2a=1000 \n",
    "L2b=500 \n",
    "fa=0 \n",
    "fb=1 \n",
    "ha=1000 \n",
    "hb=1 \n",
    "ya=10\n",
    "yb=1\n",
    "```"
   ]
  },
  {
   "cell_type": "code",
   "execution_count": 9,
   "metadata": {
    "collapsed": false
   },
   "outputs": [],
   "source": [
    "bind={Ca:1000,\n",
    "Cb:0.8,\n",
    "ia:10000,\n",
    "ib:5000,\n",
    "L1a:100,\n",
    "L1b:0.1,\n",
    "L2a:1000,\n",
    "L2b:500,\n",
    "fa:0,\n",
    "fb:1,\n",
    "ha:1000,\n",
    "hb:1,\n",
    "ya:10,\n",
    "yb:1}"
   ]
  },
  {
   "cell_type": "code",
   "execution_count": 14,
   "metadata": {
    "collapsed": false
   },
   "outputs": [
    {
     "data": {
      "text/plain": [
       "500*kbar + 10"
      ]
     },
     "execution_count": 14,
     "metadata": {},
     "output_type": "execute_result"
    }
   ],
   "source": [
    "map_y_P_c_i_N_W_L1_L2_h_f[y].subs(bind)"
   ]
  },
  {
   "cell_type": "code",
   "execution_count": 15,
   "metadata": {
    "collapsed": false
   },
   "outputs": [
    {
     "data": {
      "text/plain": [
       "{y: 500*kbar + 10,\n",
       " f: 500,\n",
       " h: 500,\n",
       " i: -g + 100.0*kbar + 0.8*t - 998.0,\n",
       " W: 5000000*M/(-1000*g + 600000.0*kbar + 800.0*t + 12000.0),\n",
       " N: 500,\n",
       " c: 400.0*kbar - 0.8*t + 1008.0,\n",
       " P: 10000*M/(-1000*g + 600000.0*kbar + 800.0*t + 12000.0),\n",
       " L2: -g/10 + 10.0*kbar + 0.08*t - 99.8,\n",
       " L1: 50.0*kbar + 101.0}"
      ]
     },
     "execution_count": 15,
     "metadata": {},
     "output_type": "execute_result"
    }
   ],
   "source": [
    "{key:value.subs(bind) for key,value in map_y_P_c_i_N_W_L1_L2_h_f.items()}"
   ]
  },
  {
   "cell_type": "code",
   "execution_count": 16,
   "metadata": {
    "collapsed": false
   },
   "outputs": [
    {
     "data": {
      "text/plain": [
       "{y: (L2b*P*(Ca - Cb*t + g + ia) - ib*(L1a*P + L2a*P - M))/(P*(L1b*ib - L2b*(Cb - 1))),\n",
       " r: (L1b*P*(Ca - Cb*t + g + ia) - (Cb - 1)*(L1a*P + L2a*P - M))/(P*(L1b*ib - L2b*(Cb - 1)))}"
      ]
     },
     "execution_count": 16,
     "metadata": {},
     "output_type": "execute_result"
    }
   ],
   "source": [
    "map_y_r"
   ]
  },
  {
   "cell_type": "markdown",
   "metadata": {},
   "source": [
    "发现了少了利率，专门算一下"
   ]
  },
  {
   "cell_type": "code",
   "execution_count": 22,
   "metadata": {
    "collapsed": false
   },
   "outputs": [
    {
     "data": {
      "text/plain": [
       "g/5000 - 0.02*kbar - 0.00016*t + 2.1996"
      ]
     },
     "execution_count": 22,
     "metadata": {},
     "output_type": "execute_result"
    }
   ],
   "source": [
    "map_y_P_c_i_r_N_W_L1_L2_h_f={}\n",
    "map_y_P_c_i_r_N_W_L1_L2_h_f.update(map_y_P_c_i_N_W_L1_L2_h_f)\n",
    "map_y_P_c_i_r_N_W_L1_L2_h_f[r]=simplify(map_y_r[r].subs({P:map_y_P_c_i_N_W_L1_L2_h_f[P]})).subs(bind)\n",
    "map_y_P_c_i_r_N_W_L1_L2_h_f[r]"
   ]
  },
  {
   "cell_type": "code",
   "execution_count": 24,
   "metadata": {
    "collapsed": false
   },
   "outputs": [
    {
     "data": {
      "text/plain": [
       "{i: -g + 100.0*kbar + 0.8*t - 998.0,\n",
       " f: 500,\n",
       " y: 500*kbar + 10,\n",
       " h: 500,\n",
       " c: 400.0*kbar - 0.8*t + 1008.0,\n",
       " W: 5000000*M/(-1000*g + 600000.0*kbar + 800.0*t + 12000.0),\n",
       " N: 500,\n",
       " L2: -g/10 + 10.0*kbar + 0.08*t - 99.8,\n",
       " P: 10000*M/(-1000*g + 600000.0*kbar + 800.0*t + 12000.0),\n",
       " r: g/5000 - 0.02*kbar - 0.00016*t + 2.1996,\n",
       " L1: 50.0*kbar + 101.0}"
      ]
     },
     "execution_count": 24,
     "metadata": {},
     "output_type": "execute_result"
    }
   ],
   "source": [
    "map_bind={key:value.subs(bind) for key,value in map_y_P_c_i_r_N_W_L1_L2_h_f.items()}\n",
    "map_bind"
   ]
  },
  {
   "cell_type": "code",
   "execution_count": 30,
   "metadata": {
    "collapsed": false
   },
   "outputs": [
    {
     "data": {
      "text/plain": [
       "{r: -17.7980000000000,\n",
       " i: 98990.0000000000,\n",
       " f: 500,\n",
       " h: 500,\n",
       " y: 500010,\n",
       " L1: 50101.0000000000,\n",
       " N: 500,\n",
       " c: 400920.000000000,\n",
       " P: 0.00166666666666667,\n",
       " L2: 9899.00000000000,\n",
       " W: 0.833333333333333}"
      ]
     },
     "execution_count": 30,
     "metadata": {},
     "output_type": "execute_result"
    }
   ],
   "source": [
    "{key:value.subs({g:100,t:110,kbar:1000,M:100}) for key,value in map_bind.items()}"
   ]
  },
  {
   "cell_type": "markdown",
   "metadata": {},
   "source": [
    "利率是负的？这是线性函数的锅，不过姑且让我们假设它会在某个区域里算合理的近似，把`kbar`减10倍看看"
   ]
  },
  {
   "cell_type": "code",
   "execution_count": 32,
   "metadata": {
    "collapsed": false
   },
   "outputs": [
    {
     "data": {
      "text/plain": [
       "{r: 0.202000000000000,\n",
       " i: 8990.00000000000,\n",
       " f: 500,\n",
       " h: 500,\n",
       " y: 50010,\n",
       " L1: 5101.00000000000,\n",
       " N: 500,\n",
       " c: 40920.0000000000,\n",
       " P: 0.0166666666666667,\n",
       " L2: 899.000000000000,\n",
       " W: 8.33333333333333}"
      ]
     },
     "execution_count": 32,
     "metadata": {},
     "output_type": "execute_result"
    }
   ],
   "source": [
    "{key:value.subs({g:100,t:110,kbar:100,M:100}) for key,value in map_bind.items()}"
   ]
  },
  {
   "cell_type": "code",
   "execution_count": null,
   "metadata": {
    "collapsed": true
   },
   "outputs": [],
   "source": []
  }
 ],
 "metadata": {
  "kernelspec": {
   "display_name": "Python 3",
   "language": "python",
   "name": "python3"
  },
  "language_info": {
   "codemirror_mode": {
    "name": "ipython",
    "version": 3
   },
   "file_extension": ".py",
   "mimetype": "text/x-python",
   "name": "python",
   "nbconvert_exporter": "python",
   "pygments_lexer": "ipython3",
   "version": "3.5.1"
  }
 },
 "nbformat": 4,
 "nbformat_minor": 0
}
