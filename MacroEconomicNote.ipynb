{
 "cells": [
  {
   "cell_type": "markdown",
   "metadata": {},
   "source": [
    "# 宏观经济学笔记\n",
    "\n",
    "## 两部分模型的均衡与动态过程\n",
    "\n",
    "初级宏观经济学中经常使用均衡模型，比如在国民收入决定理论最简单的的两部门模型中，我们可以看到这样的推导。\n",
    "\n",
    "$$\n",
    "\\begin{aligned}\n",
    "y&=c+i \\\\\n",
    "c&=a+by\n",
    "\\end{aligned}\n",
    "$$"
   ]
  },
  {
   "cell_type": "markdown",
   "metadata": {},
   "source": [
    "其中$y$是总收入，$c$是总消费，$i$是总投资。模型同时根据假设设下两个方程，求解可以得到\n",
    "$$\n",
    "y=\\frac{a+i}{1-b}\n",
    "$$"
   ]
  },
  {
   "cell_type": "markdown",
   "metadata": {},
   "source": [
    "我们将其解释为$i$对$y$的决定关系。这种决定关系是考虑了所谓的乘数效应的，某种意义上可以看成$i$增大之后$y$增大来适应$i$的增大试图使方程成立，然而$y$的增大又会使第二个方程$c$增大。$c$增大又在第一个方程里使$y$增大。可以用等比数列求和证明，这种迭代过程在$0<b<1$的条件下是收敛的。收敛状态的$\\delta y$正好等于对上式直接求导的结果$1/(1-b)$。\n",
    "\n",
    "这种离散过程式的推理未免有若干细节上的困难，这种推理的本质不是这些强加的所谓乘数效应的解释，而是从一个均衡态到另一个均衡态的移动。一个均衡态下，一个量的突变（比如政策因素）可以造成下一个均衡态，我们考虑的是两个均衡态之间某个我们控制的变量之外的变量是如何根据我们的变量所变化的。而且这种变化的偏效应本身是价值不大的，我们可以看到最终$y$移动了那么多，但这并不是在“所有其他条件不变的条件下造成的”，而是在$c$也改变的结果中导出的。\n",
    "\n",
    "知乎上看到一个回答对初级宏观经济学这一套概括的很好，“本科经济学一套都是A决定B，B决定C，C决定A，设下方程求解”。某种意义上来说这的确是个很有力的工具，假如它的确是个朝着均衡态运动的过程的话，能够求解均衡比插入一个动态过程要简单的多，我们下面来给其插入一个动态过程。\n",
    "\n",
    "### 一个微分方程模型\n",
    "\n",
    "从一个均衡态到另一个均衡态的具体运动显然可以有无数种形态，我们直接设下如下符合直觉的微分方程模型:\n",
    "\n",
    "$$\n",
    "\\begin{aligned}\n",
    "\\frac{\\mathrm{d}y}{\\mathrm{d}t}&=c+i-y \\\\\n",
    "\\frac{\\mathrm{d}c}{\\mathrm{d}t}&=a+by-c\n",
    "\\end{aligned}\n",
    "$$"
   ]
  },
  {
   "cell_type": "markdown",
   "metadata": {},
   "source": [
    "可以看出他在均衡点的确是“均衡的”，导数都为0。\n",
    "\n",
    "也可以看出它的确表达了一种与那个乘数效应的离散过程类似的吸引力。比如$i$较大时$y$有正导数。而正导数导致的$y$的增长又在第二个方程中使$c$具有增长的趋势，于是第一个方程的$y$就更增长。不过单凭这么看的话，这似乎是个发散的正反馈过程，不过的确如此吗？\n",
    "\n",
    "写成矩阵形式使其更加清楚\n",
    "\n",
    "$$\n",
    "\\frac{\\mathrm{d}}{\\mathrm{d}t}\n",
    "\\begin{bmatrix}\n",
    "y \\\\ c\n",
    "\\end{bmatrix}\n",
    "=\n",
    "\\begin{bmatrix}\n",
    "-1 & 1 \\\\\n",
    "b & -1\n",
    "\\end{bmatrix}\n",
    "\\begin{bmatrix}\n",
    "y \\\\ c\n",
    "\\end{bmatrix}\n",
    "+\n",
    "\\begin{bmatrix}\n",
    "i \\\\ a\n",
    "\\end{bmatrix}\n",
    "$$"
   ]
  },
  {
   "cell_type": "markdown",
   "metadata": {},
   "source": [
    "这是个非齐次常系数微分方程组，不过因为非齐次项是常数，所以我们可以在状态向量里加入一个恒定的量$k=1$来将它变为齐次的方程\n",
    "\n",
    "$$\n",
    "\\frac{\\mathrm{d}}{\\mathrm{d}t}\n",
    "\\begin{bmatrix}\n",
    "y \\\\ c \\\\ k\n",
    "\\end{bmatrix}\n",
    "=\n",
    "\\begin{bmatrix}\n",
    "-1 & 1 & i \\\\ b & -1 & a \\\\ 0 & 0 & 0\n",
    "\\end{bmatrix}\n",
    "\\begin{bmatrix}\n",
    "y \\\\ c \\\\ k\n",
    "\\end{bmatrix}\n",
    "$$"
   ]
  },
  {
   "cell_type": "markdown",
   "metadata": {},
   "source": [
    "其具有三个特征根$\\lambda_1=\\sqrt{b}-1$,$\\lambda_2=-\\sqrt{b}-1$与$\\lambda_3=0$。因为是三个相异的特征根，可以用最简单的求解方法（求出三个特征向量乘对应特征值作为exp函数上系数的函数，待定的常向量$C$可以联立初值$y=y_0,c=c_0,k=1$求得），虽然算起来还是有点麻烦，这里就不打过程。解是\n",
    "$$\n",
    "C_3=\\frac{1}{1-b}\n",
    "$$\n",
    "可以先直接解得$C_3$，再代回去解$C_1,C_2$\n",
    "$$\n",
    "\\begin{bmatrix}\n",
    "C_1 \\\\ C_2\n",
    "\\end{bmatrix}\n",
    "=\n",
    "\\frac{1}{2\\sqrt{b}}\n",
    "\\begin{bmatrix}\n",
    "\\sqrt{b} & 1 \\\\\n",
    "-\\sqrt{b} & 1\n",
    "\\end{bmatrix}\n",
    "\\begin{bmatrix}\n",
    "y_0-\\frac{a+i}{1-b} \\\\\n",
    "c_0-\\frac{a+bi}{1-b}\n",
    "\\end{bmatrix}\n",
    "$$\n",
    "就可以得到结果向量"
   ]
  },
  {
   "cell_type": "markdown",
   "metadata": {},
   "source": [
    "$$\n",
    "\\begin{bmatrix}\n",
    "y \\\\ c \\\\ k\n",
    "\\end{bmatrix}\n",
    "=\n",
    "\\begin{bmatrix}\n",
    "1 & -1 & a+i \\\\\n",
    "\\sqrt{b} & \\sqrt{b} & bi+a \\\\\n",
    "0 & 0 & 1-b\n",
    "\\end{bmatrix}\n",
    "\\begin{bmatrix}\n",
    "C_1e^{\\lambda_1t} \\\\ C_2e^{\\lambda_2t} \\\\ \\frac{1}{1-b}\n",
    "\\end{bmatrix}\n",
    "$$"
   ]
  },
  {
   "cell_type": "markdown",
   "metadata": {},
   "source": [
    "实际上只需要$y$与$c$的结果。我们下面来验证一下这个结果，直接从均衡模型来看，我们随便设个系统与它的不均衡点，如\n",
    "$$\n",
    "\\begin{aligned}\n",
    "&y=1 \\\\\n",
    "&c=0.5 \\\\\n",
    "&i=10 \\\\\n",
    "&a=b=0.5 \\\\\n",
    "\\end{aligned}\n",
    "$$"
   ]
  },
  {
   "cell_type": "markdown",
   "metadata": {},
   "source": [
    "显然它的均衡点是\n",
    "$$\n",
    "\\begin{aligned}\n",
    "y&=\\frac{a+i}{1-b}=\\frac{10.5}{0.5}=21 \\\\\n",
    "c&=0.5+10.5=11\n",
    "\\end{aligned}\n",
    "$$\n",
    "我们来用上面的动态过程看看它是不是符合这个点，首先微分方程当然永远不能到达均衡点而只能无限接近它，所以我们用封闭形式试一下，当然因为太繁琐还是得用程序算"
   ]
  },
  {
   "cell_type": "code",
   "execution_count": 1,
   "metadata": {
    "collapsed": false
   },
   "outputs": [
    {
     "data": {
      "text/plain": [
       "(20.999999999996682, 10.999999999997653)"
      ]
     },
     "execution_count": 1,
     "metadata": {},
     "output_type": "execute_result"
    }
   ],
   "source": [
    "import numpy as np\n",
    "import math\n",
    "from scipy.integrate import odeint\n",
    "\n",
    "def close_form(t,y0,c0,I,a,b):\n",
    "    #这个根据的是正确的解析公式\n",
    "    sb=math.sqrt(b)\n",
    "    lam1=sb-1.0\n",
    "    lam2=-sb-1.0\n",
    "    up=y0-(a+I)/(1.0-b)\n",
    "    down=c0-(a+b*I)/(1.0-b)\n",
    "    C1=(1.0/(2*sb))*(sb*up+down)\n",
    "    C2=(1.0/(2*sb))*((-sb)*up+down)\n",
    "    M1=C1*np.exp(lam1*t)\n",
    "    M2=C2*np.exp(lam2*t)\n",
    "    M3=1.0/(1.0-b)\n",
    "    y=M1-M2+(a+I)*M3\n",
    "    c=sb*M1+sb*M2+(b*I+a)*M3\n",
    "    return y,c\n",
    "\n",
    "close_form(100.0,1.0,0.5,10.0,0.5,0.5)"
   ]
  },
  {
   "cell_type": "markdown",
   "metadata": {},
   "source": [
    "大概的确是收敛了，也验证了封闭计算的正确性，我们再用`scipy`的`odeint`方法数值模拟一下更放心。"
   ]
  },
  {
   "cell_type": "code",
   "execution_count": 2,
   "metadata": {
    "collapsed": false
   },
   "outputs": [
    {
     "data": {
      "text/plain": [
       "array([[  1.        ,   0.5       ],\n",
       "       [  7.57870285,   2.1590619 ],\n",
       "       [ 11.27563343,   4.23960671],\n",
       "       [ 13.81236858,   5.93821799],\n",
       "       [ 15.66139268,   7.22871459],\n",
       "       [ 17.03009402,   8.19350869],\n",
       "       [ 18.04705843,   8.91207197],\n",
       "       [ 18.80336043,   9.44676212],\n",
       "       [ 19.36593345,   9.84454418],\n",
       "       [ 19.78442315,  10.14045804],\n",
       "       [ 20.09573532,  10.36058843],\n",
       "       [ 20.32731955,  10.52434311],\n",
       "       [ 20.49959466,  10.64616   ],\n",
       "       [ 20.6277496 ,  10.73677925],\n",
       "       [ 20.72308379,  10.80419069],\n",
       "       [ 20.79400266,  10.8543379 ],\n",
       "       [ 20.84675906,  10.89164229],\n",
       "       [ 20.88600446,  10.91939298],\n",
       "       [ 20.91519892,  10.94003659],\n",
       "       [ 20.93691666,  10.95539335],\n",
       "       [ 20.95307245,  10.96681721],\n",
       "       [ 20.96509067,  10.97531537],\n",
       "       [ 20.97403103,  10.98163712],\n",
       "       [ 20.98068165,  10.98633992],\n",
       "       [ 20.98562922,  10.98983822],\n",
       "       [ 20.9893095 ,  10.99244075],\n",
       "       [ 20.99204748,  10.99437665],\n",
       "       [ 20.99408408,  10.99581686],\n",
       "       [ 20.99559909,  10.99688808],\n",
       "       [ 20.99672612,  10.99768502]])"
      ]
     },
     "execution_count": 2,
     "metadata": {},
     "output_type": "execute_result"
    }
   ],
   "source": [
    "def d_yc(y,c,y0,c0,i,a,b):\n",
    "    dy=c+i-y\n",
    "    dc=a+b*y-c\n",
    "    return np.array([dy,dc])\n",
    "\n",
    "def scipy_way(t,y0,c0,i,a,b,niter=100):\n",
    "    '''这里的t是积到t的意思,odeint接受的是“中继点”序列，并不是说计算那些点的位置，\n",
    "    而是就是只在那几个点用迭代法计算下一个点，非常坑爹'''\n",
    "    Y0=[y0,c0]\n",
    "    def _d_yc(Y,t):\n",
    "        return d_yc(Y[0],Y[1],Y0[0],Y0[1],i,a,b)\n",
    "    t=np.linspace(0,t,niter)\n",
    "    return odeint(_d_yc,Y0,t)\n",
    "\n",
    "scipy_way(100.0,1.0,0.5,10.0,0.5,0.5)[:30]"
   ]
  },
  {
   "cell_type": "markdown",
   "metadata": {},
   "source": [
    "可以看到也验证了收敛性，我们顺便用一下常微分方程的动力系统稳定性理论看看这个点的稳定性。\n",
    "\n",
    "这个问题虽然本来是二维的，却不能直接用平面上的动力系统理论，因为它不是自治的，如果通过增维来让其自治，就不是二维的了，而且也不是在零点取均衡/稳定点，处理起来比较麻烦。\n",
    "\n",
    "所以我们直接画个流图了事(手动滑稽)"
   ]
  },
  {
   "cell_type": "code",
   "execution_count": 4,
   "metadata": {
    "collapsed": false
   },
   "outputs": [],
   "source": [
    "import matplotlib.pyplot as plt\n",
    "import statsmodels.api as sm\n",
    "%matplotlib inline\n",
    "\n"
   ]
  },
  {
   "cell_type": "code",
   "execution_count": 5,
   "metadata": {
    "collapsed": true
   },
   "outputs": [],
   "source": [
    "def stream(i,a,b):\n",
    "    '''\n",
    "    dy=c+i-y\n",
    "    dc=a+b*y-c\n",
    "    '''\n",
    "    y, c = np.mgrid[0:30:100j, 0:30:100j]\n",
    "    dy=c+i-y\n",
    "    dc=a+b*y-c\n",
    "    plt.streamplot(c,y,dc,dy)\n",
    "    plt.show()\n"
   ]
  },
  {
   "cell_type": "code",
   "execution_count": 7,
   "metadata": {
    "collapsed": false
   },
   "outputs": [
    {
     "data": {
      "image/png": "[encoded data removed]",
      "text/plain": [
       "<matplotlib.figure.Figure at 0x12b3de10>"
      ]
     },
     "metadata": {},
     "output_type": "display_data"
    }
   ],
   "source": [
    "stream(10.0,0.5,0.5)"
   ]
  },
  {
   "cell_type": "markdown",
   "metadata": {},
   "source": [
    "我们来看一下*直接效应*与*乘数效应*是怎么在回归方程里被识别出来的。这似乎很有启发性"
   ]
  },
  {
   "cell_type": "code",
   "execution_count": 12,
   "metadata": {
    "collapsed": true
   },
   "outputs": [],
   "source": [
    "import statsmodels.formula.api as smf\n",
    "import pandas as pd\n",
    "\n",
    "\n",
    "def sample(i_sample=None,a=0.5,b=0.5,size=100):\n",
    "    if not(i_sample):\n",
    "        i=np.random.rand(size)\n",
    "    else:\n",
    "        i=i_sample\n",
    "    y=(a+i)/(1.0-b)\n",
    "    c=a+b*y\n",
    "    return [{'y':y[j],'c':c[j],'i':i[j]} for j in range(size)]\n",
    "    \n",
    "def test(formula,**kwarg):\n",
    "    df=pd.DataFrame(sample(**kwarg))\n",
    "    mod=smf.ols(formula,data=df)\n",
    "    print mod.fit().summary()\n"
   ]
  },
  {
   "cell_type": "code",
   "execution_count": 13,
   "metadata": {
    "collapsed": false
   },
   "outputs": [
    {
     "name": "stdout",
     "output_type": "stream",
     "text": [
      "                            OLS Regression Results                            \n",
      "==============================================================================\n",
      "Dep. Variable:                      y   R-squared:                       1.000\n",
      "Model:                            OLS   Adj. R-squared:                  1.000\n",
      "Method:                 Least Squares   F-statistic:                 2.616e+32\n",
      "Date:                Tue, 01 Mar 2016   Prob (F-statistic):               0.00\n",
      "Time:                        21:37:26   Log-Likelihood:                 3411.0\n",
      "No. Observations:                 100   AIC:                            -6818.\n",
      "Df Residuals:                      98   BIC:                            -6813.\n",
      "Df Model:                           1                                         \n",
      "Covariance Type:            nonrobust                                         \n",
      "==============================================================================\n",
      "                 coef    std err          t      P>|t|      [95.0% Conf. Int.]\n",
      "------------------------------------------------------------------------------\n",
      "Intercept      1.0000   7.53e-17   1.33e+16      0.000         1.000     1.000\n",
      "i              2.0000   1.24e-16   1.62e+16      0.000         2.000     2.000\n",
      "==============================================================================\n",
      "Omnibus:                        4.353   Durbin-Watson:                   1.154\n",
      "Prob(Omnibus):                  0.113   Jarque-Bera (JB):                2.717\n",
      "Skew:                           0.204   Prob(JB):                        0.257\n",
      "Kurtosis:                       2.303   Cond. No.                         4.28\n",
      "==============================================================================\n",
      "\n",
      "Warnings:\n",
      "[1] Standard Errors assume that the covariance matrix of the errors is correctly specified.\n"
     ]
    }
   ],
   "source": [
    "test('y~i')"
   ]
  },
  {
   "cell_type": "code",
   "execution_count": 14,
   "metadata": {
    "collapsed": false
   },
   "outputs": [
    {
     "name": "stdout",
     "output_type": "stream",
     "text": [
      "                            OLS Regression Results                            \n",
      "==============================================================================\n",
      "Dep. Variable:                      y   R-squared:                       1.000\n",
      "Model:                            OLS   Adj. R-squared:                  1.000\n",
      "Method:                 Least Squares   F-statistic:                 3.600e+31\n",
      "Date:                Tue, 01 Mar 2016   Prob (F-statistic):               0.00\n",
      "Time:                        21:37:29   Log-Likelihood:                 3316.2\n",
      "No. Observations:                 100   AIC:                            -6628.\n",
      "Df Residuals:                      98   BIC:                            -6623.\n",
      "Df Model:                           1                                         \n",
      "Covariance Type:            nonrobust                                         \n",
      "==============================================================================\n",
      "                 coef    std err          t      P>|t|      [95.0% Conf. Int.]\n",
      "------------------------------------------------------------------------------\n",
      "Intercept  -4.163e-16   2.33e-16     -1.786      0.077     -8.79e-16  4.62e-17\n",
      "i              1.0000    2.8e-16   3.57e+15      0.000         1.000     1.000\n",
      "c              1.0000   6.35e-17   1.57e+16      0.000         1.000     1.000\n",
      "==============================================================================\n",
      "Omnibus:                       15.252   Durbin-Watson:                   0.075\n",
      "Prob(Omnibus):                  0.000   Jarque-Bera (JB):               17.142\n",
      "Skew:                           0.982   Prob(JB):                     0.000190\n",
      "Kurtosis:                       3.509   Cond. No.                     3.09e+16\n",
      "==============================================================================\n",
      "\n",
      "Warnings:\n",
      "[1] Standard Errors assume that the covariance matrix of the errors is correctly specified.\n",
      "[2] The smallest eigenvalue is 3.79e-31. This might indicate that there are\n",
      "strong multicollinearity problems or that the design matrix is singular.\n"
     ]
    }
   ],
   "source": [
    "test('y~i+c')"
   ]
  },
  {
   "cell_type": "code",
   "execution_count": 17,
   "metadata": {
    "collapsed": false
   },
   "outputs": [
    {
     "name": "stdout",
     "output_type": "stream",
     "text": [
      "                            OLS Regression Results                            \n",
      "==============================================================================\n",
      "Dep. Variable:                      y   R-squared:                       1.000\n",
      "Model:                            OLS   Adj. R-squared:                  1.000\n",
      "Method:                 Least Squares   F-statistic:                 6.503e+32\n",
      "Date:                Tue, 01 Mar 2016   Prob (F-statistic):               0.00\n",
      "Time:                        21:38:18   Log-Likelihood:                 3371.6\n",
      "No. Observations:                 100   AIC:                            -6739.\n",
      "Df Residuals:                      98   BIC:                            -6734.\n",
      "Df Model:                           1                                         \n",
      "Covariance Type:            nonrobust                                         \n",
      "==============================================================================\n",
      "                 coef    std err          t      P>|t|      [95.0% Conf. Int.]\n",
      "------------------------------------------------------------------------------\n",
      "Intercept      2.5000   1.08e-16   2.32e+16      0.000         2.500     2.500\n",
      "i              5.0000   1.96e-16   2.55e+16      0.000         5.000     5.000\n",
      "==============================================================================\n",
      "Omnibus:                        9.915   Durbin-Watson:                   1.747\n",
      "Prob(Omnibus):                  0.007   Jarque-Bera (JB):               10.090\n",
      "Skew:                           0.764   Prob(JB):                      0.00644\n",
      "Kurtosis:                       3.296   Cond. No.                         4.36\n",
      "==============================================================================\n",
      "\n",
      "Warnings:\n",
      "[1] Standard Errors assume that the covariance matrix of the errors is correctly specified.\n"
     ]
    }
   ],
   "source": [
    "test('y~i',b=0.8)"
   ]
  },
  {
   "cell_type": "code",
   "execution_count": 18,
   "metadata": {
    "collapsed": false
   },
   "outputs": [
    {
     "name": "stdout",
     "output_type": "stream",
     "text": [
      "                            OLS Regression Results                            \n",
      "==============================================================================\n",
      "Dep. Variable:                      y   R-squared:                       1.000\n",
      "Model:                            OLS   Adj. R-squared:                  1.000\n",
      "Method:                 Least Squares   F-statistic:                 3.015e+31\n",
      "Date:                Tue, 01 Mar 2016   Prob (F-statistic):               0.00\n",
      "Time:                        21:38:25   Log-Likelihood:                 3214.3\n",
      "No. Observations:                 100   AIC:                            -6425.\n",
      "Df Residuals:                      98   BIC:                            -6419.\n",
      "Df Model:                           1                                         \n",
      "Covariance Type:            nonrobust                                         \n",
      "==============================================================================\n",
      "                 coef    std err          t      P>|t|      [95.0% Conf. Int.]\n",
      "------------------------------------------------------------------------------\n",
      "Intercept     -0.3226   7.26e-16  -4.44e+14      0.000        -0.323    -0.323\n",
      "i              0.4839   4.79e-16   1.01e+15      0.000         0.484     0.484\n",
      "c              1.1290   1.15e-16   9.81e+15      0.000         1.129     1.129\n",
      "==============================================================================\n",
      "Omnibus:                       37.803   Durbin-Watson:                   0.288\n",
      "Prob(Omnibus):                  0.000   Jarque-Bera (JB):                6.416\n",
      "Skew:                           0.102   Prob(JB):                       0.0404\n",
      "Kurtosis:                       1.776   Cond. No.                     4.34e+16\n",
      "==============================================================================\n",
      "\n",
      "Warnings:\n",
      "[1] Standard Errors assume that the covariance matrix of the errors is correctly specified.\n",
      "[2] The smallest eigenvalue is 1.14e-30. This might indicate that there are\n",
      "strong multicollinearity problems or that the design matrix is singular.\n"
     ]
    }
   ],
   "source": [
    "test('y~i+c',b=0.8)"
   ]
  },
  {
   "cell_type": "markdown",
   "metadata": {},
   "source": [
    "最后一个结果有点出人意料，还以为能估计出正确结果来着"
   ]
  },
  {
   "cell_type": "code",
   "execution_count": null,
   "metadata": {
    "collapsed": true
   },
   "outputs": [],
   "source": []
  }
 ],
 "metadata": {
  "kernelspec": {
   "display_name": "Python 2",
   "language": "python",
   "name": "python2"
  },
  "language_info": {
   "codemirror_mode": {
    "name": "ipython",
    "version": 2
   },
   "file_extension": ".py",
   "mimetype": "text/x-python",
   "name": "python",
   "nbconvert_exporter": "python",
   "pygments_lexer": "ipython2",
   "version": "2.7.11"
  }
 },
 "nbformat": 4,
 "nbformat_minor": 0
}
